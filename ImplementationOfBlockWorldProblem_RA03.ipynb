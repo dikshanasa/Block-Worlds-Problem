{
  "nbformat": 4,
  "nbformat_minor": 0,
  "metadata": {
    "colab": {
      "name": "ImplementationOfBlockWorldProblem_RA03.ipynb",
      "provenance": [],
      "collapsed_sections": [],
      "authorship_tag": "ABX9TyPznOfW352kRs7ZRTC3PxrO",
      "include_colab_link": true
    },
    "kernelspec": {
      "name": "python3",
      "display_name": "Python 3"
    },
    "language_info": {
      "name": "python"
    }
  },
  "cells": [
    {
      "cell_type": "markdown",
      "metadata": {
        "id": "view-in-github",
        "colab_type": "text"
      },
      "source": [
        "<a href=\"https://colab.research.google.com/github/dikshanasa/Block-Worlds-Problem/blob/main/ImplementationOfBlockWorldProblem_RA03.ipynb\" target=\"_parent\"><img src=\"https://colab.research.google.com/assets/colab-badge.svg\" alt=\"Open In Colab\"/></a>"
      ]
    },
    {
      "cell_type": "code",
      "source": [
        "from BlockWorldAgent import BlockWorldAgent\n",
        "\n",
        "\n",
        "def test():\n",
        "    # This will test your BlockWorldAgent\n",
        "    # with eight initial test cases.\n",
        "    test_agent = BlockWorldAgent()\n",
        "\n",
        "    initial_arrangement_1 = [[\"A\", \"B\"], [\"C\"]]\n",
        "    goal_arrangement_1 = [[\"C\", \"A\",\"B\"]]\n",
        "\n",
        "    print(test_agent.solve(initial_arrangement_1, goal_arrangement_1))\n",
        "\n",
        "\n",
        "if __name__ == \"__main__\":\n",
        "    test()"
      ],
      "metadata": {
        "colab": {
          "base_uri": "https://localhost:8080/"
        },
        "id": "xwnsuIuZ6A9n",
        "outputId": "c691ed98-64cf-4510-e57e-bed37ed3e386"
      },
      "execution_count": null,
      "outputs": [
        {
          "output_type": "stream",
          "name": "stdout",
          "text": [
            "Running time:0.15163421630859375ms\n",
            "[('B', 'Table'), ('A', 'C'), ('B', 'A')]\n"
          ]
        }
      ]
    }
  ]
}